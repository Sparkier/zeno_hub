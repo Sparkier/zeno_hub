{
 "cells": [
  {
   "cell_type": "markdown",
   "metadata": {},
   "source": [
    "Uploading existing zeno project to a zeno backend using the Zeno API.\n",
    "\n",
    "We assume that this existing project has been created with an older version of zeno.\n",
    "Therefore, this script makes assumptions about the column names and data structure of\n",
    "the CSV."
   ]
  },
  {
   "cell_type": "code",
   "execution_count": 53,
   "metadata": {},
   "outputs": [],
   "source": [
    "USERNAME = \"test\"\n",
    "PASSWORD = \"Test12345!\"\n",
    "ENDPOINT = \"http://localhost:8000\"\n",
    "PROJECT_NAME = \"accent-project\"\n",
    "PROJECT_VIEW = \"audio-transcription\"\n",
    "DATA_URL = \"https://zenoml.s3.amazonaws.com/accents/\"\n",
    "EXISTING_PROJECT_PATH = \"accents.csv\""
   ]
  },
  {
   "cell_type": "code",
   "execution_count": 46,
   "metadata": {},
   "outputs": [
    {
     "name": "stdout",
     "output_type": "stream",
     "text": [
      "The autoreload extension is already loaded. To reload it, use:\n",
      "  %reload_ext autoreload\n",
      "env: PUBLIC_BACKEND_ENDPOINT=http://localhost:8000\n"
     ]
    }
   ],
   "source": [
    "%load_ext autoreload\n",
    "%autoreload 2\n",
    "\n",
    "%env PUBLIC_BACKEND_ENDPOINT=http://localhost:8000\n",
    "\n",
    "from zeno_api import ZenoClient\n",
    "import pandas as pd\n"
   ]
  },
  {
   "cell_type": "code",
   "execution_count": 47,
   "metadata": {},
   "outputs": [],
   "source": [
    "zeno_client = ZenoClient(\n",
    "    username=USERNAME, password=PASSWORD, endpoint=ENDPOINT\n",
    ")"
   ]
  },
  {
   "cell_type": "code",
   "execution_count": 48,
   "metadata": {},
   "outputs": [
    {
     "name": "stdout",
     "output_type": "stream",
     "text": [
      "Successfully created project test/accent-project\n"
     ]
    }
   ],
   "source": [
    "project = zeno_client.create_project(\n",
    "    PROJECT_NAME, \n",
    "    view=PROJECT_VIEW\n",
    "    data_url=DATA_URL,\n",
    ")"
   ]
  },
  {
   "cell_type": "code",
   "execution_count": 49,
   "metadata": {},
   "outputs": [],
   "source": [
    "\n",
    "data_frame = pd.read_csv(EXISTING_PROJECT_PATH)\n",
    "data_frame = data_frame.fillna(\"\")\n",
    "output_cols = list(\n",
    "    filter(lambda col: str(col).startswith(\"OUTPUToutput\"), data_frame.columns)\n",
    ")\n",
    "models = list(\n",
    "    set(list(map(lambda col: str(col).replace(\"OUTPUToutput\", \"\"), output_cols)))\n",
    ")\n",
    "predistill_cols = list(\n",
    "    filter(lambda col: str(col).startswith(\"PREDISTILL\"), data_frame.columns)\n",
    ")\n",
    "postdistill_cols = list(\n",
    "    filter(lambda col: str(col).startswith(\"POSTDISTILL\"), data_frame.columns)\n",
    ")\n",
    "embedding_cols = list(\n",
    "    filter(lambda col: str(col).startswith(\"EMBEDDING\"), data_frame.columns)\n",
    ")"
   ]
  },
  {
   "cell_type": "code",
   "execution_count": 50,
   "metadata": {},
   "outputs": [],
   "source": [
    "df_dataset = data_frame.drop(output_cols + predistill_cols + postdistill_cols + embedding_cols, axis=1)"
   ]
  },
  {
   "cell_type": "code",
   "execution_count": 51,
   "metadata": {},
   "outputs": [
    {
     "data": {
      "text/html": [
       "<div>\n",
       "<style scoped>\n",
       "    .dataframe tbody tr th:only-of-type {\n",
       "        vertical-align: middle;\n",
       "    }\n",
       "\n",
       "    .dataframe tbody tr th {\n",
       "        vertical-align: top;\n",
       "    }\n",
       "\n",
       "    .dataframe thead th {\n",
       "        text-align: right;\n",
       "    }\n",
       "</style>\n",
       "<table border=\"1\" class=\"dataframe\">\n",
       "  <thead>\n",
       "    <tr style=\"text-align: right;\">\n",
       "      <th></th>\n",
       "      <th>id</th>\n",
       "      <th>age</th>\n",
       "      <th>age_onset</th>\n",
       "      <th>birthplace</th>\n",
       "      <th>native_language</th>\n",
       "      <th>sex</th>\n",
       "      <th>speakerid</th>\n",
       "      <th>country</th>\n",
       "      <th>id.1</th>\n",
       "      <th>label</th>\n",
       "      <th>continent</th>\n",
       "      <th>data</th>\n",
       "    </tr>\n",
       "  </thead>\n",
       "  <tbody>\n",
       "    <tr>\n",
       "      <th>0</th>\n",
       "      <td>afrikaans1.wav</td>\n",
       "      <td>27.0</td>\n",
       "      <td>9.0</td>\n",
       "      <td>virginia, south africa</td>\n",
       "      <td>afrikaans</td>\n",
       "      <td>female</td>\n",
       "      <td>1</td>\n",
       "      <td>south africa</td>\n",
       "      <td>afrikaans1.wav</td>\n",
       "      <td>Please call Stella.  Ask her to bring these th...</td>\n",
       "      <td>Africa</td>\n",
       "      <td>afrikaans1.wav</td>\n",
       "    </tr>\n",
       "    <tr>\n",
       "      <th>1</th>\n",
       "      <td>afrikaans2.wav</td>\n",
       "      <td>40.0</td>\n",
       "      <td>5.0</td>\n",
       "      <td>pretoria, south africa</td>\n",
       "      <td>afrikaans</td>\n",
       "      <td>male</td>\n",
       "      <td>2</td>\n",
       "      <td>south africa</td>\n",
       "      <td>afrikaans2.wav</td>\n",
       "      <td>Please call Stella.  Ask her to bring these th...</td>\n",
       "      <td>Africa</td>\n",
       "      <td>afrikaans2.wav</td>\n",
       "    </tr>\n",
       "    <tr>\n",
       "      <th>2</th>\n",
       "      <td>afrikaans3.wav</td>\n",
       "      <td>43.0</td>\n",
       "      <td>4.0</td>\n",
       "      <td>pretoria, transvaal, south africa</td>\n",
       "      <td>afrikaans</td>\n",
       "      <td>male</td>\n",
       "      <td>418</td>\n",
       "      <td>south africa</td>\n",
       "      <td>afrikaans3.wav</td>\n",
       "      <td>Please call Stella.  Ask her to bring these th...</td>\n",
       "      <td>Africa</td>\n",
       "      <td>afrikaans3.wav</td>\n",
       "    </tr>\n",
       "    <tr>\n",
       "      <th>3</th>\n",
       "      <td>afrikaans4.wav</td>\n",
       "      <td>26.0</td>\n",
       "      <td>8.0</td>\n",
       "      <td>pretoria, south africa</td>\n",
       "      <td>afrikaans</td>\n",
       "      <td>male</td>\n",
       "      <td>1159</td>\n",
       "      <td>south africa</td>\n",
       "      <td>afrikaans4.wav</td>\n",
       "      <td>Please call Stella.  Ask her to bring these th...</td>\n",
       "      <td>Africa</td>\n",
       "      <td>afrikaans4.wav</td>\n",
       "    </tr>\n",
       "    <tr>\n",
       "      <th>4</th>\n",
       "      <td>afrikaans5.wav</td>\n",
       "      <td>19.0</td>\n",
       "      <td>6.0</td>\n",
       "      <td>cape town, south africa</td>\n",
       "      <td>afrikaans</td>\n",
       "      <td>male</td>\n",
       "      <td>1432</td>\n",
       "      <td>south africa</td>\n",
       "      <td>afrikaans5.wav</td>\n",
       "      <td>Please call Stella.  Ask her to bring these th...</td>\n",
       "      <td>Africa</td>\n",
       "      <td>afrikaans5.wav</td>\n",
       "    </tr>\n",
       "  </tbody>\n",
       "</table>\n",
       "</div>"
      ],
      "text/plain": [
       "               id   age  age_onset                         birthplace  \\\n",
       "0  afrikaans1.wav  27.0        9.0             virginia, south africa   \n",
       "1  afrikaans2.wav  40.0        5.0             pretoria, south africa   \n",
       "2  afrikaans3.wav  43.0        4.0  pretoria, transvaal, south africa   \n",
       "3  afrikaans4.wav  26.0        8.0             pretoria, south africa   \n",
       "4  afrikaans5.wav  19.0        6.0            cape town, south africa   \n",
       "\n",
       "  native_language     sex  speakerid       country            id.1  \\\n",
       "0       afrikaans  female          1  south africa  afrikaans1.wav   \n",
       "1       afrikaans    male          2  south africa  afrikaans2.wav   \n",
       "2       afrikaans    male        418  south africa  afrikaans3.wav   \n",
       "3       afrikaans    male       1159  south africa  afrikaans4.wav   \n",
       "4       afrikaans    male       1432  south africa  afrikaans5.wav   \n",
       "\n",
       "                                               label continent            data  \n",
       "0  Please call Stella.  Ask her to bring these th...    Africa  afrikaans1.wav  \n",
       "1  Please call Stella.  Ask her to bring these th...    Africa  afrikaans2.wav  \n",
       "2  Please call Stella.  Ask her to bring these th...    Africa  afrikaans3.wav  \n",
       "3  Please call Stella.  Ask her to bring these th...    Africa  afrikaans4.wav  \n",
       "4  Please call Stella.  Ask her to bring these th...    Africa  afrikaans5.wav  "
      ]
     },
     "execution_count": 51,
     "metadata": {},
     "output_type": "execute_result"
    }
   ],
   "source": [
    "df_dataset.head()"
   ]
  },
  {
   "cell_type": "code",
   "execution_count": 52,
   "metadata": {},
   "outputs": [
    {
     "name": "stdout",
     "output_type": "stream",
     "text": [
      "Successfully uploaded data\n"
     ]
    }
   ],
   "source": [
    "project.upload_dataset(df_dataset, \"id\", label_column=\"label\", data_column=\"id.1\")"
   ]
  },
  {
   "cell_type": "code",
   "execution_count": null,
   "metadata": {},
   "outputs": [],
   "source": []
  }
 ],
 "metadata": {
  "kernelspec": {
   "display_name": ".venv",
   "language": "python",
   "name": "python3"
  },
  "language_info": {
   "codemirror_mode": {
    "name": "ipython",
    "version": 3
   },
   "file_extension": ".py",
   "mimetype": "text/x-python",
   "name": "python",
   "nbconvert_exporter": "python",
   "pygments_lexer": "ipython3",
   "version": "3.11.4"
  },
  "orig_nbformat": 4
 },
 "nbformat": 4,
 "nbformat_minor": 2
}
