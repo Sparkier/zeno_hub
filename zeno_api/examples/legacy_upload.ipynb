{
 "cells": [
  {
   "cell_type": "code",
   "execution_count": 1,
   "metadata": {},
   "outputs": [
    {
     "name": "stdout",
     "output_type": "stream",
     "text": [
      "env: PUBLIC_BACKEND_ENDPOINT=http://localhost:8000\n"
     ]
    }
   ],
   "source": [
    "%load_ext autoreload\n",
    "%autoreload 2\n",
    "\n",
    "%env PUBLIC_BACKEND_ENDPOINT=http://localhost:8000\n",
    "\n",
    "from zeno_api import ZenoClient\n",
    "\n",
    "import pandas as pd\n",
    "import ast\n",
    "import json\n",
    "from pathlib import Path\n",
    "\n",
    "import pandas as pd\n",
    "import zeno_api"
   ]
  },
  {
   "cell_type": "code",
   "execution_count": 12,
   "metadata": {},
   "outputs": [],
   "source": [
    "USERNAME = \"test\"\n",
    "PASSWORD = \"Test12345!\"\n",
    "ENDPOINT = \"http://localhost:8000\"\n",
    "PROJECT_NAME = \"test_project\"\n",
    "PROJECT_VIEW = \"text-classification\"\n",
    "EXISTING_PROJECT_PATH = \"test.csv\""
   ]
  },
  {
   "cell_type": "code",
   "execution_count": 7,
   "metadata": {},
   "outputs": [],
   "source": [
    "zeno_client = ZenoClient(\n",
    "    username=USERNAME, password=PASSWORD, endpoint=ENDPOINT\n",
    ")"
   ]
  },
  {
   "cell_type": "code",
   "execution_count": 8,
   "metadata": {},
   "outputs": [
    {
     "ename": "Exception",
     "evalue": "Not Found",
     "output_type": "error",
     "traceback": [
      "\u001b[0;31m---------------------------------------------------------------------------\u001b[0m",
      "\u001b[0;31mException\u001b[0m                                 Traceback (most recent call last)",
      "Cell \u001b[0;32mIn[8], line 1\u001b[0m\n\u001b[0;32m----> 1\u001b[0m project \u001b[39m=\u001b[39m zeno_client\u001b[39m.\u001b[39;49mcreate_project(\n\u001b[1;32m      2\u001b[0m     PROJECT_NAME, \n\u001b[1;32m      3\u001b[0m     view\u001b[39m=\u001b[39;49mPROJECT_VIEW\n\u001b[1;32m      4\u001b[0m )\n",
      "File \u001b[0;32m~/dev/zeno_hub/zeno_api/zeno_api/__init__.py:26\u001b[0m, in \u001b[0;36m_check_token.<locals>.wrapper\u001b[0;34m(*args, **kwargs)\u001b[0m\n\u001b[1;32m     23\u001b[0m \u001b[39m@wraps\u001b[39m(func)\n\u001b[1;32m     24\u001b[0m \u001b[39mdef\u001b[39;00m \u001b[39mwrapper\u001b[39m(\u001b[39m*\u001b[39margs, \u001b[39m*\u001b[39m\u001b[39m*\u001b[39mkwargs):\n\u001b[1;32m     25\u001b[0m     args[\u001b[39m0\u001b[39m]\u001b[39m.\u001b[39muser\u001b[39m.\u001b[39mcheck_token()\n\u001b[0;32m---> 26\u001b[0m     \u001b[39mreturn\u001b[39;00m func(\u001b[39m*\u001b[39;49margs, \u001b[39m*\u001b[39;49m\u001b[39m*\u001b[39;49mkwargs)\n",
      "File \u001b[0;32m~/dev/zeno_hub/zeno_api/zeno_api/__init__.py:230\u001b[0m, in \u001b[0;36mZenoClient.create_project\u001b[0;34m(self, name, view, data_url, calculate_histogram_metrics, samples_per_page, public)\u001b[0m\n\u001b[1;32m    228\u001b[0m     \u001b[39mreturn\u001b[39;00m ZenoProject(\u001b[39mself\u001b[39m\u001b[39m.\u001b[39muser, response\u001b[39m.\u001b[39mtext[\u001b[39m1\u001b[39m:\u001b[39m-\u001b[39m\u001b[39m1\u001b[39m], \u001b[39mself\u001b[39m\u001b[39m.\u001b[39mendpoint)\n\u001b[1;32m    229\u001b[0m \u001b[39melse\u001b[39;00m:\n\u001b[0;32m--> 230\u001b[0m     \u001b[39mraise\u001b[39;00m \u001b[39mException\u001b[39;00m(response\u001b[39m.\u001b[39mjson()[\u001b[39m\"\u001b[39m\u001b[39mdetail\u001b[39m\u001b[39m\"\u001b[39m])\n",
      "\u001b[0;31mException\u001b[0m: Not Found"
     ]
    }
   ],
   "source": [
    "project = zeno_client.create_project(\n",
    "    PROJECT_NAME, \n",
    "    view=PROJECT_VIEW\n",
    ")"
   ]
  },
  {
   "cell_type": "code",
   "execution_count": null,
   "metadata": {},
   "outputs": [],
   "source": [
    "\n",
    "data_frame = pd.read_csv(EXISTING_PROJECT_PATH)\n",
    "data_frame = data_frame.fillna(\"\")\n",
    "output_cols = list(\n",
    "    filter(lambda col: str(col).startswith(\"OUTPUToutput\"), data_frame.columns)\n",
    ")\n",
    "models = list(\n",
    "    set(list(map(lambda col: str(col).replace(\"OUTPUToutput\", \"\"), output_cols)))\n",
    ")\n",
    "predistill_cols = list(\n",
    "    filter(lambda col: str(col).startswith(\"PREDISTILL\"), data_frame.columns)\n",
    ")\n",
    "postdistill_cols = list(\n",
    "    filter(lambda col: str(col).startswith(\"POSTDISTILL\"), data_frame.columns)\n",
    ")"
   ]
  },
  {
   "cell_type": "markdown",
   "metadata": {},
   "source": [
    "Uploading existing zeno project to a zeno backend using the Zeno API.\n",
    "\n",
    "We assume that this existing project has been created with an older version of zeno.\n",
    "Therefore, this script makes assumptions about the column names and data structure of\n",
    "the CSV."
   ]
  },
  {
   "cell_type": "markdown",
   "metadata": {},
   "source": []
  }
 ],
 "metadata": {
  "kernelspec": {
   "display_name": ".venv",
   "language": "python",
   "name": "python3"
  },
  "language_info": {
   "codemirror_mode": {
    "name": "ipython",
    "version": 3
   },
   "file_extension": ".py",
   "mimetype": "text/x-python",
   "name": "python",
   "nbconvert_exporter": "python",
   "pygments_lexer": "ipython3",
   "version": "3.11.4"
  },
  "orig_nbformat": 4
 },
 "nbformat": 4,
 "nbformat_minor": 2
}
