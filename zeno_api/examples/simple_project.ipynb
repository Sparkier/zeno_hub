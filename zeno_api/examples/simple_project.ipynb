{
 "cells": [
  {
   "cell_type": "code",
   "execution_count": 2,
   "metadata": {},
   "outputs": [
    {
     "name": "stdout",
     "output_type": "stream",
     "text": [
      "env: PUBLIC_BACKEND_ENDPOINT=http://localhost:8000\n"
     ]
    }
   ],
   "source": [
    "%load_ext autoreload\n",
    "%autoreload 2\n",
    "%env PUBLIC_BACKEND_ENDPOINT=http://localhost:8000\n",
    "\n",
    "import zeno_api as zeno\n",
    "from zeno_api import MetadataType"
   ]
  },
  {
   "cell_type": "code",
   "execution_count": 3,
   "metadata": {},
   "outputs": [],
   "source": [
    "zeno_container = zeno.authenticate(\"test\", \"Test12345!\")"
   ]
  },
  {
   "cell_type": "code",
   "execution_count": 4,
   "metadata": {},
   "outputs": [
    {
     "data": {
      "text/plain": [
       "'eyJraWQiOiJ1dUtxSGxQeDhBak9UdVBwN3h1SDhxS21ZdWlQXC9jRGZHaktCTFpZYjBJcz0iLCJhbGciOiJSUzI1NiJ9.eyJzdWIiOiJhOTY5ZDk1ZS02MDUxLTcwMTItNWMwNy1iODQ4MzI3MmI4ZDIiLCJpc3MiOiJodHRwczpcL1wvY29nbml0by1pZHAudXMtd2VzdC0xLmFtYXpvbmF3cy5jb21cL3VzLXdlc3QtMV9wR28wbnlNRVUiLCJjbGllbnRfaWQiOiI2dDhxa2kyOWZ1MjdqZnBuOWpwYmV2dnA0ayIsIm9yaWdpbl9qdGkiOiJkYzgwYmI3Ni01OGYzLTQzNTAtYmViNy05N2IzMTRiYzI2YmIiLCJldmVudF9pZCI6IjJmNDc0ZjMwLWY1MjItNDM0Ny1hYWYzLTE4NzVjYjIxYmVmYyIsInRva2VuX3VzZSI6ImFjY2VzcyIsInNjb3BlIjoiYXdzLmNvZ25pdG8uc2lnbmluLnVzZXIuYWRtaW4iLCJhdXRoX3RpbWUiOjE2OTI3NDA1MTIsImV4cCI6MTY5Mjc0NDExMiwiaWF0IjoxNjkyNzQwNTEyLCJqdGkiOiI3MzFjNDM3My0zM2JkLTQwMjQtODE1My1jYjg5MDBiZmY5YTYiLCJ1c2VybmFtZSI6InRlc3QifQ.cmfbxa7ft6ATEKp6WuSUQ6EOF_vluvcUT3XZKo5amNy5FQwwPLU6kOC-GXoBBi7P_RhTMOzg0L6C0IxL7Sr22WF4z-2DenQwZWurZCm-w8xrRuIVHD4QvsPt1_w6adx5HOV7QzA-nGW-qFhJTmrze8jHu28F-GI1RZLttqlO-G0xJkKJgPqQ4MHs91kDQqaSus9gZ-Y_IPo9mjz3pX33-BEPwV7PN-W3M2dxt6K7Qms-WdBHGSCWJ-0TRFF-7cXTxEMCp0Ez_ioZpxRBYzYihNBfLXLFl_KHx1KSiOEiTLeTycLXqV6cbkQm3_hyoXM5jtHzgxYG3JJOb6DrD4iNng'"
      ]
     },
     "execution_count": 4,
     "metadata": {},
     "output_type": "execute_result"
    }
   ],
   "source": [
    "zeno_container.user.access_token"
   ]
  },
  {
   "cell_type": "code",
   "execution_count": 10,
   "metadata": {},
   "outputs": [],
   "source": [
    "zeno_container.create_project(\"test\", \"text-classification\")"
   ]
  },
  {
   "cell_type": "code",
   "execution_count": 16,
   "metadata": {},
   "outputs": [],
   "source": [
    "project = zeno_container.get_project(\"test\")"
   ]
  },
  {
   "cell_type": "code",
   "execution_count": 17,
   "metadata": {},
   "outputs": [
    {
     "data": {
      "text/plain": [
       "'22349ebe-4cfe-42c6-b5aa-6e120de1859d'"
      ]
     },
     "execution_count": 17,
     "metadata": {},
     "output_type": "execute_result"
    }
   ],
   "source": [
    "project.project_uuid"
   ]
  },
  {
   "cell_type": "code",
   "execution_count": 18,
   "metadata": {},
   "outputs": [],
   "source": [
    "data = [\"hello world\", \"lorem ipsum\", \"zeno rocks!\", \"zeno is awesome!\"]\n",
    "for i, d in enumerate(data):\n",
    "    project.add_datapoint(i, d)\n",
    "    project.add_feature(\"length\", i, len(d), MetadataType.CONTINUOUS)"
   ]
  },
  {
   "cell_type": "code",
   "execution_count": null,
   "metadata": {},
   "outputs": [],
   "source": []
  }
 ],
 "metadata": {
  "kernelspec": {
   "display_name": ".venv",
   "language": "python",
   "name": "python3"
  },
  "language_info": {
   "codemirror_mode": {
    "name": "ipython",
    "version": 3
   },
   "file_extension": ".py",
   "mimetype": "text/x-python",
   "name": "python",
   "nbconvert_exporter": "python",
   "pygments_lexer": "ipython3",
   "version": "3.11.4"
  },
  "orig_nbformat": 4
 },
 "nbformat": 4,
 "nbformat_minor": 2
}
