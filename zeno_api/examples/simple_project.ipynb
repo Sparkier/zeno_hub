{
 "cells": [
  {
   "cell_type": "code",
   "execution_count": 1,
   "metadata": {},
   "outputs": [
    {
     "name": "stdout",
     "output_type": "stream",
     "text": [
      "env: PUBLIC_BACKEND_ENDPOINT=http://localhost:8000\n"
     ]
    }
   ],
   "source": [
    "%load_ext autoreload\n",
    "%autoreload 2\n",
    "%env PUBLIC_BACKEND_ENDPOINT=http://localhost:8000\n",
    "\n",
    "import zeno_api as zeno\n",
    "from zeno_api import MetadataType"
   ]
  },
  {
   "cell_type": "code",
   "execution_count": 2,
   "metadata": {},
   "outputs": [],
   "source": [
    "zeno_container = zeno.authenticate(\"test\", \"Test12345!\")"
   ]
  },
  {
   "cell_type": "code",
   "execution_count": 3,
   "metadata": {},
   "outputs": [
    {
     "data": {
      "text/plain": [
       "'eyJraWQiOiJ1dUtxSGxQeDhBak9UdVBwN3h1SDhxS21ZdWlQXC9jRGZHaktCTFpZYjBJcz0iLCJhbGciOiJSUzI1NiJ9.eyJzdWIiOiJhOTY5ZDk1ZS02MDUxLTcwMTItNWMwNy1iODQ4MzI3MmI4ZDIiLCJpc3MiOiJodHRwczpcL1wvY29nbml0by1pZHAudXMtd2VzdC0xLmFtYXpvbmF3cy5jb21cL3VzLXdlc3QtMV9wR28wbnlNRVUiLCJjbGllbnRfaWQiOiI2dDhxa2kyOWZ1MjdqZnBuOWpwYmV2dnA0ayIsIm9yaWdpbl9qdGkiOiIyYThlYjM5MC05Mjk1LTQ5MWQtOWE3YS03MWZjMjRiMGNhMTkiLCJldmVudF9pZCI6ImY0MDQ0NDgwLTVkODItNGExYy1iNzJmLTE0NzAyZjA4ZDIyNyIsInRva2VuX3VzZSI6ImFjY2VzcyIsInNjb3BlIjoiYXdzLmNvZ25pdG8uc2lnbmluLnVzZXIuYWRtaW4iLCJhdXRoX3RpbWUiOjE2OTI3NDY3MzYsImV4cCI6MTY5Mjc1MDMzNiwiaWF0IjoxNjkyNzQ2NzM2LCJqdGkiOiJhM2NhNTcxZS05MThjLTQzZDItYWNmNi05YjAxMDdiOTZjYzIiLCJ1c2VybmFtZSI6InRlc3QifQ.nKx2xw3jDOjWI1SmZLazruCgjXgXzoYR65Axe0d40Jdy7N0KKXgHMzmxapaT8tp_lGFw3OsRcgBbBa_UQ19cA8rcfGbZAJNZiV49VvIF08XZS5ezBoptE3fVJDB8pmEk8OVArIXCFX6eLrZqqe6-_2JUBQBWv6dyGzSUv5irziS5J8FPMnEhWXJyGsZczQ5mOn74vGS9f-zax_5tOG2AzDRilmXbXoGf5TGzk4Wio19_4bfcZkdvu-esMcXLuLYSjP5NOwWJByn6BiLxnyoRzX-B0hk5W-Z6SfDnUpr_mMQQpM6_3GONummNXa846e46ETQ08cfyNGP9jeTfie8jmQ'"
      ]
     },
     "execution_count": 3,
     "metadata": {},
     "output_type": "execute_result"
    }
   ],
   "source": [
    "zeno_container.user.access_token"
   ]
  },
  {
   "cell_type": "code",
   "execution_count": 10,
   "metadata": {},
   "outputs": [
    {
     "data": {
      "text/plain": [
       "<zeno_api.Project at 0x10c0ca0d0>"
      ]
     },
     "execution_count": 10,
     "metadata": {},
     "output_type": "execute_result"
    }
   ],
   "source": [
    "zeno_container.create_project(\"test\", \"text-classification\")"
   ]
  },
  {
   "cell_type": "code",
   "execution_count": 8,
   "metadata": {},
   "outputs": [],
   "source": [
    "project = zeno_container.get_project(\"test\")"
   ]
  },
  {
   "cell_type": "code",
   "execution_count": 9,
   "metadata": {},
   "outputs": [
    {
     "data": {
      "text/plain": [
       "'nternal Server Erro'"
      ]
     },
     "execution_count": 9,
     "metadata": {},
     "output_type": "execute_result"
    }
   ],
   "source": [
    "project.project_uuid"
   ]
  },
  {
   "cell_type": "code",
   "execution_count": 18,
   "metadata": {},
   "outputs": [],
   "source": [
    "data = [\"hello world\", \"lorem ipsum\", \"zeno rocks!\", \"zeno is awesome!\"]\n",
    "for i, d in enumerate(data):\n",
    "    project.add_datapoint(i, d)\n",
    "    project.add_feature(\"length\", i, len(d), MetadataType.CONTINUOUS)"
   ]
  },
  {
   "cell_type": "code",
   "execution_count": null,
   "metadata": {},
   "outputs": [],
   "source": []
  }
 ],
 "metadata": {
  "kernelspec": {
   "display_name": ".venv",
   "language": "python",
   "name": "python3"
  },
  "language_info": {
   "codemirror_mode": {
    "name": "ipython",
    "version": 3
   },
   "file_extension": ".py",
   "mimetype": "text/x-python",
   "name": "python",
   "nbconvert_exporter": "python",
   "pygments_lexer": "ipython3",
   "version": "3.11.4"
  },
  "orig_nbformat": 4
 },
 "nbformat": 4,
 "nbformat_minor": 2
}
