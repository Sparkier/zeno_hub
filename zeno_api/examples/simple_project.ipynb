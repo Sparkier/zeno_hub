{
 "cells": [
  {
   "cell_type": "code",
   "execution_count": null,
   "metadata": {},
   "outputs": [],
   "source": [
    "%load_ext autoreload\n",
    "%autoreload 2\n",
    "\n",
    "%env PUBLIC_BACKEND_ENDPOINT=http://localhost:8000\n",
    "\n",
    "from zeno_api import ZenoClient\n",
    "import pandas as pd"
   ]
  },
  {
   "cell_type": "code",
   "execution_count": null,
   "metadata": {},
   "outputs": [],
   "source": [
    "zeno_client = ZenoClient(\n",
    "    username=\"test\", password=\"Test12345!\", endpoint=\"http://localhost:8000\"\n",
    ")"
   ]
  },
  {
   "cell_type": "code",
   "execution_count": null,
   "metadata": {},
   "outputs": [],
   "source": [
    "project = zeno_client.create_project(\n",
    "    \"new day\", \n",
    "    view=\"text-classification\"\n",
    ")"
   ]
  },
  {
   "cell_type": "code",
   "execution_count": null,
   "metadata": {},
   "outputs": [],
   "source": [
    "df = pd.DataFrame(\n",
    "    {\n",
    "        \"id\": [\"hello world\", \"lorem ipsum\", \"zeno rocks!\", \"zeno is awesome!\"],        \n",
    "        \"text\": [\"hello world\", \"lorem ipsum\", \"zeno rocks!\", \"zeno is awesome!\"],\n",
    "        \"label\": [\"a\", \"b\", \"a\", \"b\"],\n",
    "    }\n",
    ")\n",
    "df[\"length\"] = df[\"text\"].apply(len)\n",
    "df.head()\n"
   ]
  },
  {
   "cell_type": "code",
   "execution_count": null,
   "metadata": {},
   "outputs": [],
   "source": [
    "project.upload_dataset(df, id_column=\"id\", label_column=\"label\", data_column='text')"
   ]
  },
  {
   "cell_type": "code",
   "execution_count": null,
   "metadata": {},
   "outputs": [],
   "source": [
    "df_system_A = pd.DataFrame(\n",
    "    {\n",
    "        \"id\": [\"hello world\", \"lorem ipsum\", \"zeno rocks!\", \"zeno is awesome!\"],        \n",
    "        \"output\": [\"a\", \"b\", \"a\", \"b\"],\n",
    "    })\n",
    "df_system_A[\"length\"] = df[\"text\"].apply(len)\n",
    "df_system_A['id'] = df['id']\n",
    "\n",
    "project.upload_system(\"System A\", df_system_A, \"output\", 'id')"
   ]
  }
 ],
 "metadata": {
  "kernelspec": {
   "display_name": ".venv",
   "language": "python",
   "name": "python3"
  },
  "language_info": {
   "codemirror_mode": {
    "name": "ipython",
    "version": 3
   },
   "file_extension": ".py",
   "mimetype": "text/x-python",
   "name": "python",
   "nbconvert_exporter": "python",
   "pygments_lexer": "ipython3",
   "version": "3.11.4"
  },
  "orig_nbformat": 4
 },
 "nbformat": 4,
 "nbformat_minor": 2
}
