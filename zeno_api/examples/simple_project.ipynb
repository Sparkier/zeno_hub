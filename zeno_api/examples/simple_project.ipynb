{
 "cells": [
  {
   "cell_type": "code",
   "execution_count": 74,
   "metadata": {},
   "outputs": [
    {
     "name": "stdout",
     "output_type": "stream",
     "text": [
      "The autoreload extension is already loaded. To reload it, use:\n",
      "  %reload_ext autoreload\n",
      "env: PUBLIC_BACKEND_ENDPOINT=http://localhost:8000\n"
     ]
    }
   ],
   "source": [
    "%load_ext autoreload\n",
    "%autoreload 2\n",
    "\n",
    "%env PUBLIC_BACKEND_ENDPOINT=http://localhost:8000\n",
    "\n",
    "from zeno_api import ZenoClient, ZenoProjectConfig\n",
    "import pandas as pd\n",
    "import io"
   ]
  },
  {
   "cell_type": "code",
   "execution_count": 108,
   "metadata": {},
   "outputs": [],
   "source": [
    "zeno_client = ZenoClient(\n",
    "    username=\"test\", password=\"Test12345!\", endpoint=\"http://localhost:8000\"\n",
    ")"
   ]
  },
  {
   "cell_type": "code",
   "execution_count": 44,
   "metadata": {},
   "outputs": [
    {
     "name": "stdout",
     "output_type": "stream",
     "text": [
      "Successfully created project test/testerasdf\n"
     ]
    }
   ],
   "source": [
    "project = zeno_client.create_project(\n",
    "    \"testerasdf\", \n",
    "    ZenoProjectConfig(view=\"text-classification\")\n",
    ")\n"
   ]
  },
  {
   "cell_type": "code",
   "execution_count": 109,
   "metadata": {},
   "outputs": [],
   "source": [
    "project = zeno_client.get_project(\"test/tester\")"
   ]
  },
  {
   "cell_type": "code",
   "execution_count": 77,
   "metadata": {},
   "outputs": [
    {
     "data": {
      "text/plain": [
       "text      object\n",
       "label     object\n",
       "length     int64\n",
       "dtype: object"
      ]
     },
     "execution_count": 77,
     "metadata": {},
     "output_type": "execute_result"
    }
   ],
   "source": [
    "df = pd.DataFrame(\n",
    "    {\n",
    "        \"text\": [\"hello world\", \"lorem ipsum\", \"zeno rocks!\", \"zeno is awesome!\"],\n",
    "        \"label\": [\"a\", \"b\", \"a\", \"b\"],\n",
    "    }\n",
    ")\n",
    "df[\"length\"] = df[\"text\"].apply(len)\n",
    "df.head()\n",
    "df.dtypes\n"
   ]
  },
  {
   "cell_type": "code",
   "execution_count": 113,
   "metadata": {},
   "outputs": [
    {
     "name": "stdout",
     "output_type": "stream",
     "text": [
      "Successfully uploaded data\n"
     ]
    }
   ],
   "source": [
    "project.upload_dataset(df, id_column=\"text\", label_column=\"label\")"
   ]
  },
  {
   "cell_type": "code",
   "execution_count": 115,
   "metadata": {},
   "outputs": [
    {
     "name": "stdout",
     "output_type": "stream",
     "text": [
      "Successfully uploaded system\n"
     ]
    }
   ],
   "source": [
    "df_system_A = pd.DataFrame(\n",
    "    {\n",
    "        \"output\": [\"a\", \"b\", \"a\", \"b\"],\n",
    "    })\n",
    "df_system_A[\"length\"] = df[\"text\"].apply(len)\n",
    "\n",
    "project.upload_system(\"System A\", df_system_A, \"output\")"
   ]
  },
  {
   "cell_type": "code",
   "execution_count": null,
   "metadata": {},
   "outputs": [],
   "source": []
  }
 ],
 "metadata": {
  "kernelspec": {
   "display_name": ".venv",
   "language": "python",
   "name": "python3"
  },
  "language_info": {
   "codemirror_mode": {
    "name": "ipython",
    "version": 3
   },
   "file_extension": ".py",
   "mimetype": "text/x-python",
   "name": "python",
   "nbconvert_exporter": "python",
   "pygments_lexer": "ipython3",
   "version": "3.11.4"
  },
  "orig_nbformat": 4
 },
 "nbformat": 4,
 "nbformat_minor": 2
}
