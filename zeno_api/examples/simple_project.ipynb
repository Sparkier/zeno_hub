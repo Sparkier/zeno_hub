{
 "cells": [
  {
   "cell_type": "code",
   "execution_count": 43,
   "metadata": {},
   "outputs": [
    {
     "name": "stdout",
     "output_type": "stream",
     "text": [
      "The autoreload extension is already loaded. To reload it, use:\n",
      "  %reload_ext autoreload\n",
      "env: PUBLIC_BACKEND_ENDPOINT=http://localhost:8000\n"
     ]
    }
   ],
   "source": [
    "%load_ext autoreload\n",
    "%autoreload 2\n",
    "%env PUBLIC_BACKEND_ENDPOINT=http://localhost:8000\n",
    "\n",
    "import zeno_api as zeno\n",
    "from zeno_api import MetadataType"
   ]
  },
  {
   "cell_type": "code",
   "execution_count": 32,
   "metadata": {},
   "outputs": [],
   "source": [
    "zeno_container = zeno.authenticate(\"test\", \"Test12345!\")"
   ]
  },
  {
   "cell_type": "code",
   "execution_count": 36,
   "metadata": {},
   "outputs": [
    {
     "data": {
      "text/plain": [
       "'eyJraWQiOiJ1dUtxSGxQeDhBak9UdVBwN3h1SDhxS21ZdWlQXC9jRGZHaktCTFpZYjBJcz0iLCJhbGciOiJSUzI1NiJ9.eyJzdWIiOiJhOTY5ZDk1ZS02MDUxLTcwMTItNWMwNy1iODQ4MzI3MmI4ZDIiLCJpc3MiOiJodHRwczpcL1wvY29nbml0by1pZHAudXMtd2VzdC0xLmFtYXpvbmF3cy5jb21cL3VzLXdlc3QtMV9wR28wbnlNRVUiLCJjbGllbnRfaWQiOiI2dDhxa2kyOWZ1MjdqZnBuOWpwYmV2dnA0ayIsIm9yaWdpbl9qdGkiOiI5ZDBjOTQyZi0wNjRlLTQ4ZmItOTU0OC01Yzc3YTZhZjMzYjEiLCJldmVudF9pZCI6ImYyZGFhNmM5LTRkYjctNDhjYS04ZDhiLTJjMTg1Njk2OTkxZiIsInRva2VuX3VzZSI6ImFjY2VzcyIsInNjb3BlIjoiYXdzLmNvZ25pdG8uc2lnbmluLnVzZXIuYWRtaW4iLCJhdXRoX3RpbWUiOjE2OTI2Njg5NDAsImV4cCI6MTY5MjY3MjU0MCwiaWF0IjoxNjkyNjY4OTQwLCJqdGkiOiJiODZiNGQ1Yi0wZWQxLTQwMTEtYjBmMS01OThjNTM5YTY5MjMiLCJ1c2VybmFtZSI6InRlc3QifQ.AyXjCAcpa6Se6J-ZW5P-QYU2A9_J80Ix6VbIVAwUCsGC4z2sKr6mZKB-ewLTed9jPiayX6EqMmf0YsXs0yvZnq8QigzuBg8MLlSWIFKo49OOJrt-2Ig7INi07J3Rm5nTXc411EofvxuZXH1K7OS47fNShkdC1STlPS9kSfF0jO4cAQYi-SEmw-T35fN4KMAa7dTYyQb3t1Wtr5QrAwIUu3NSUIN6iDykGCiZMFcMAPXg3trNGNGWj0uJtzrZV9XN-upB_i2meGor5yGGzDQgo_djBdow6xEo69t2VdLlQ1BG-gb8tyCdmEYRUVV93_25qyyuzLjzK3CqD48998uhFw'"
      ]
     },
     "execution_count": 36,
     "metadata": {},
     "output_type": "execute_result"
    }
   ],
   "source": [
    "zeno_container.user.access_token"
   ]
  },
  {
   "cell_type": "code",
   "execution_count": 33,
   "metadata": {},
   "outputs": [],
   "source": [
    "project = zeno_container.project(\"test\", \"text-classification\")"
   ]
  },
  {
   "cell_type": "code",
   "execution_count": 34,
   "metadata": {},
   "outputs": [
    {
     "data": {
      "text/plain": [
       "'53378ca6-3853-49ac-9e55-80753ff7195f'"
      ]
     },
     "execution_count": 34,
     "metadata": {},
     "output_type": "execute_result"
    }
   ],
   "source": [
    "project.project_uuid"
   ]
  },
  {
   "cell_type": "code",
   "execution_count": 48,
   "metadata": {},
   "outputs": [],
   "source": [
    "data = [\"hello world\", \"lorem ipsum\", \"zeno rocks!\", \"zeno is awesome!\"]\n",
    "for i, d in enumerate(data):\n",
    "    project.add_datapoint(i, d)\n",
    "    project.add_feature(\"length\", i, len(d), MetadataType.CONTINUOUS)"
   ]
  },
  {
   "cell_type": "code",
   "execution_count": null,
   "metadata": {},
   "outputs": [],
   "source": []
  }
 ],
 "metadata": {
  "kernelspec": {
   "display_name": ".venv",
   "language": "python",
   "name": "python3"
  },
  "language_info": {
   "codemirror_mode": {
    "name": "ipython",
    "version": 3
   },
   "file_extension": ".py",
   "mimetype": "text/x-python",
   "name": "python",
   "nbconvert_exporter": "python",
   "pygments_lexer": "ipython3",
   "version": "3.11.4"
  },
  "orig_nbformat": 4
 },
 "nbformat": 4,
 "nbformat_minor": 2
}
